{
 "cells": [
  {
   "cell_type": "markdown",
   "metadata": {
    "collapsed": true,
    "pycharm": {
     "name": "#%% md\n"
    }
   },
   "source": [
    "## Exercícios - Aula 01"
   ]
  },
  {
   "cell_type": "markdown",
   "metadata": {
    "collapsed": false,
    "pycharm": {
     "name": "#%% md\n"
    }
   },
   "source": [
    "1) Escolha um número entre 1 e 10 e armazene ele numa variável chamada *segredo*. Escolha outro número entre 1 e 10 novamente e salve ele numa variável chamada *chute*. Depois, escreva testes condicionais usando *if*, *else* e *elif* para exibir a mensagem \"muito menor\" se *chute* é menor do que *segredo*, \"muito maior\" se *chute* é maior do que *segredo* e \"na mosca\" se *chute* for igual à *segredo*.\n",
    "\n",
    "2) Escreva uma cadeia de instrucões *if*-*elif*-*else* que determine o estágio da vida de uma pessoa. Defina um valor para a variável *idade* e então:\n",
    "- Se a pessoa tiver menos de 2 anos de idade, mostre uma mensagem dizendo que ela ainda é um bebê.\n",
    "- Se a pessoa tiver pelo menos 2 anos, mas menos de 4, mostre uma mensagem dizendo que ela é uma crianca.\n",
    "- Se a pessoa tiver pelo menos 4 anos, mas menos de 13, mostre uma mensagem dizendo que ela é um(a) goroto(a).\n",
    "- Se a pessoa tiver pelo menos 13 anos, mas menos de 20, mostre uma mensagem dizendo que ela é um(a) adolescente.\n",
    "- Se a pessoa tiver pelo menos 20 anos, mas menos de 65, mostre uma mensagem dizendo que ela é um(a) adulto(a).\n",
    "- Se a pessoa tiver 65 anos ou mais, mostre uma mensagem dizendo que ela é uma pessoa idosa.\n",
    "\n",
    "3) Crie uma lista com cinco ou mais nomes de usuários, incluindo o nome \"admin\". Suponha que você esteja escrevendo um código que exibirá uma saudacão a cada usuário depois que eles fizerem login em um site. Percorra a lista com um laco e mostre uma saudacão para cada usuário:\n",
    "- Se o nome do usuário for \"admin\", mostre uma saudacão especial, por exemplo, \"Olá admin, gostaria de ver o relatório de status?\"\n",
    "- Caso contrário, mostre a saudacão genérica, como \"Olá José, obrigado por fazer login novamente\".\n",
    "\n",
    "4) A partir do exercício anterior, modifique o código criado para acrescentar um teste if que verifica se a lista de usuarios está vazia.\n",
    "- Se a lista de usuários estiver vazia, mostre a mensagem \"Precisamos encontrar alguns usuários!\". Remova todos os nomes de usuários da lista e certifique-se de que essa mensagem aparecerá.\n",
    "\n",
    "5) Crie um programa que simule o modo como os sites garantem que todos tenham um nome de usuário único.\n",
    "- Crie uma lista chamada *current_users* com cinco ou mais nomes de usuários\n",
    "- Crie uma list chamada *new_users* com cinco nomes de usuários. Garanta que dois dos novos usuários também estejam na lista *current_users*\n",
    "- Percorra a lista *new_users* com um laco para ver se cada novo nome de usuário já foi usado. Em caso afirmativo, mostre uma mensagem afirmando que a pessoa deverá fornecer um novo nome. Se um usuário não foi usado, apresente uma mensagem dizendo que o nome do usuário está disponível.\n",
    "- Certifique-se de que sua comparacão não levará em conta as diferencas entre letras maiúsculas e minúsculas. Se \"Pedro\" foi usado, \"PEDRO\" não deverá ser aceito.\n",
    "\n",
    "6) Números ordinais indicam sua posicão em uma lista, por exemplo, 1st, 2nd, em inglês. A maioria dos números ordinais nessa língua termina com th, exceto, 1, 2 e 3.\n",
    "- Armazene os números de 1 a 9 em uma lista.\n",
    "- Pecorra essa lista com um laco.\n",
    "- Use uma cadeia de instrucões *if*-*elif*-*else* que exiba a terminacão apropriada para cada número ordinal. Sua saída deverá conter \"1st 2nd 3rd 4th 5th 6th 7th 8th 9th\" e cada resultado deve estar em uma linha separada\n"
   ]
  },
  {
   "attachments": {},
   "cell_type": "markdown",
   "metadata": {},
   "source": [
    "Resolução Questão 1"
   ]
  },
  {
   "cell_type": "code",
   "execution_count": 8,
   "metadata": {},
   "outputs": [
    {
     "name": "stdout",
     "output_type": "stream",
     "text": [
      "na mosca\n"
     ]
    }
   ],
   "source": [
    "segredo = 3\n",
    "chute = 3\n",
    "if chute < segredo:\n",
    "    print(\"muito menor\")\n",
    "elif chute > segredo:\n",
    "    print(\"muito maior\")\n",
    "else: \n",
    "    chute == segredo\n",
    "    print(\"na mosca\")"
   ]
  },
  {
   "attachments": {},
   "cell_type": "markdown",
   "metadata": {},
   "source": [
    "Resolução da questão 2"
   ]
  },
  {
   "cell_type": "code",
   "execution_count": 13,
   "metadata": {},
   "outputs": [
    {
     "name": "stdout",
     "output_type": "stream",
     "text": [
      "adulto(a)\n"
     ]
    }
   ],
   "source": [
    "idade = 52\n",
    "if idade < 2:\n",
    "    print(\"bebê\")\n",
    "elif (idade < 4) or (idade == 2):\n",
    "    print(\"criança\")\n",
    "elif (idade == 4) or (idade < 13):\n",
    "    print(\"garoto(a)\")\n",
    "elif (idade == 13) or (idade < 20):\n",
    "    print(\"adolescente\")\n",
    "elif (idade == 20) or (idade < 65):\n",
    "    print(\"adulto(a)\")\n",
    "else:\n",
    "    idade > 65\n",
    "    print(\"idoso(a)\")"
   ]
  },
  {
   "attachments": {},
   "cell_type": "markdown",
   "metadata": {},
   "source": [
    "Resolução da questão 3"
   ]
  },
  {
   "cell_type": "code",
   "execution_count": 23,
   "metadata": {},
   "outputs": [
    {
     "name": "stdout",
     "output_type": "stream",
     "text": [
      "Olá Admin, gostaria de ver o relatório de status?\n",
      "olá carolsantosrb , obrigada por fazer login novamente\n",
      "olá carolinesantosf , obrigada por fazer login novamente\n",
      "olá ednarf , obrigada por fazer login novamente\n",
      "olá robsf , obrigada por fazer login novamente\n",
      "olá ednarfs , obrigada por fazer login novamente\n"
     ]
    }
   ],
   "source": [
    "users = ['admin', 'carolsantosrb', 'carolinesantosf', 'ednarf', 'robsf', 'ednarfs']\n",
    "\n",
    "for user in users:\n",
    "    if user == 'admin':\n",
    "        print(\"Olá Admin, gostaria de ver o relatório de status?\")\n",
    "    else:\n",
    "        print(\"olá\", (user),\", obrigada por fazer login novamente\")"
   ]
  },
  {
   "attachments": {},
   "cell_type": "markdown",
   "metadata": {},
   "source": [
    "Resolução da questão 4"
   ]
  },
  {
   "cell_type": "code",
   "execution_count": 64,
   "metadata": {},
   "outputs": [
    {
     "name": "stdout",
     "output_type": "stream",
     "text": [
      "Insira um usuário\n"
     ]
    }
   ],
   "source": [
    "users = []\n",
    "\n",
    "for user in users:\n",
    "    if user == 'admin':\n",
    "        print(\"Olá Admin, gostaria de ver o relatório de status?\")\n",
    "    else:\n",
    "        print(\"olá\", (user),\", obrigada por fazer login novamente\")\n",
    "\n",
    "if users == []:\n",
    "    print(\"Insira um usuário\")"
   ]
  },
  {
   "attachments": {},
   "cell_type": "markdown",
   "metadata": {},
   "source": [
    "Resolução da questão 5"
   ]
  },
  {
   "cell_type": "code",
   "execution_count": 80,
   "metadata": {},
   "outputs": [
    {
     "name": "stdout",
     "output_type": "stream",
     "text": [
      "Escolha um novo nome de usuário, esse já está em uso\n",
      "Escolha um novo nome de usuário, esse já está em uso\n",
      "Nome de usuário disponível\n"
     ]
    }
   ],
   "source": [
    "current_users = ['bia', 'carol', 'edna', 'gabriele', 'rob']\n",
    "new_users = ['isa', 'gidevaldo', 'ana', 'gabriele', 'rob']\n",
    "\n",
    "for x in new_users:\n",
    "    for n in current_users:\n",
    "        if (x == n):\n",
    "            print(\"Escolha um novo nome de usuário, esse já está em uso\")\n",
    "else:\n",
    "    print(\"Nome de usuário disponível\")"
   ]
  },
  {
   "attachments": {},
   "cell_type": "markdown",
   "metadata": {},
   "source": [
    "Resolução da questão 6"
   ]
  },
  {
   "cell_type": "code",
   "execution_count": 73,
   "metadata": {},
   "outputs": [
    {
     "name": "stdout",
     "output_type": "stream",
     "text": [
      "1st\n",
      "2nd\n",
      "3rt\n",
      "4th\n",
      "5th\n",
      "6th\n",
      "7th\n",
      "8th\n",
      "9th\n"
     ]
    }
   ],
   "source": [
    "numbers = [1, 2, 3, 4, 5, 6, 7, 8,9 ]\n",
    "\n",
    "for x in numbers: \n",
    "    if x == 1:\n",
    "        print(\"1st\")\n",
    "    elif x == 2:\n",
    "        print(\"2nd\")\n",
    "    elif x == 3:\n",
    "        print(\"3rt\")\n",
    "    elif x == 4:\n",
    "        print(\"4th\")\n",
    "    elif x == 5:\n",
    "        print(\"5th\")\n",
    "    elif x == 6:\n",
    "        print(\"6th\")\n",
    "    elif x == 7:\n",
    "        print(\"7th\")\n",
    "    elif x == 8:\n",
    "        print(\"8th\")\n",
    "    elif x == 9:\n",
    "        print(\"9th\")"
   ]
  }
 ],
 "metadata": {
  "kernelspec": {
   "display_name": "Python 3",
   "language": "python",
   "name": "python3"
  },
  "language_info": {
   "codemirror_mode": {
    "name": "ipython",
    "version": 3
   },
   "file_extension": ".py",
   "mimetype": "text/x-python",
   "name": "python",
   "nbconvert_exporter": "python",
   "pygments_lexer": "ipython3",
   "version": "3.10.4 (main, Dec 19 2022, 20:24:16) [GCC 9.4.0]"
  },
  "vscode": {
   "interpreter": {
    "hash": "3ad933181bd8a04b432d3370b9dc3b0662ad032c4dfaa4e4f1596c548f763858"
   }
  }
 },
 "nbformat": 4,
 "nbformat_minor": 0
}
